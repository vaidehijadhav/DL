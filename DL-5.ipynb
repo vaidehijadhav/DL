{
 "cells": [
  {
   "cell_type": "raw",
   "id": "a26293d7",
   "metadata": {},
   "source": [
    "Implement the Continuous Bag of Words (CBOW) Model.\n",
    "Stages can be:\n",
    "a. Data preparation\n",
    "b. Generate training data\n",
    "c. Train model\n",
    "d. Output\n",
    "\n",
    "The CBOW model takes a window of surrounding words as input and tries to predict the target word in the center of the window."
   ]
  },
  {
   "cell_type": "code",
   "execution_count": 1,
   "id": "fe8a9b7d",
   "metadata": {},
   "outputs": [
    {
     "name": "stderr",
     "output_type": "stream",
     "text": [
      "C:\\Users\\ASUS\\anaconda3\\lib\\site-packages\\scipy\\__init__.py:146: UserWarning: A NumPy version >=1.16.5 and <1.23.0 is required for this version of SciPy (detected version 1.26.1\n",
      "  warnings.warn(f\"A NumPy version >={np_minversion} and <{np_maxversion}\"\n"
     ]
    }
   ],
   "source": [
    "import matplotlib.pyplot as plt\n",
    "import seaborn as sns \n",
    "import matplotlib as mpl \n",
    "import matplotlib.pylab as pylab  \n",
    "import numpy as np "
   ]
  },
  {
   "cell_type": "markdown",
   "id": "0d97e431",
   "metadata": {},
   "source": [
    "Data Prepration"
   ]
  },
  {
   "cell_type": "code",
   "execution_count": 2,
   "id": "973912e3",
   "metadata": {},
   "outputs": [],
   "source": [
    "import re   \n",
    "sentences = \"\"\"We are about to study the idea of a computational process.\n",
    "Computational processes are abstract beings that inhabit computers.\n",
    "As they evolve, processes manipulate other abstract things called data.\n",
    "The evolution of a process is directed by a pattern of rules\n",
    "called a program. People create programs to direct processes. In effect,\n",
    "we conjure the spirits of the computer with our spells.\"\"\"\n"
   ]
  },
  {
   "cell_type": "code",
   "execution_count": 3,
   "id": "b7d9adf8",
   "metadata": {},
   "outputs": [],
   "source": [
    "#Clean Data\n",
    "#remove special characters\n",
    "sentences=re.sub('[^A-Za-z0-9]+', ' ',sentences)"
   ]
  },
  {
   "cell_type": "code",
   "execution_count": 4,
   "id": "ba6661ab",
   "metadata": {},
   "outputs": [],
   "source": [
    "# remove 1 letter words\n",
    "sentences=re.sub(r'(?:^| )\\w(?:$| )', ' ',sentences).strip()"
   ]
  },
  {
   "cell_type": "code",
   "execution_count": 5,
   "id": "5f44dad2",
   "metadata": {},
   "outputs": [],
   "source": [
    "#lower all characters\n",
    "sentences=sentences.lower()"
   ]
  },
  {
   "cell_type": "code",
   "execution_count": 6,
   "id": "01ea984e",
   "metadata": {},
   "outputs": [],
   "source": [
    "#vocabulary\n",
    "words=sentences.split() \n",
    "vocab=set(words)  \n",
    "vocab_size=len(vocab) \n",
    "embed_dim=10  #determines the size of word embeddings. Each word in the vocabulary will be represented as a 10-dimensional vector in the embedding space.\n",
    "context_size=2 #considering a window of two words to the left and two words to the right of a target word."
   ]
  },
  {
   "cell_type": "code",
   "execution_count": 7,
   "id": "0aa4cd60",
   "metadata": {},
   "outputs": [],
   "source": [
    "#Creating the dictonary\n",
    "word_to_ix={word:i for i,word in enumerate(vocab)}\n",
    "ix_to_word={i:word for i, word in enumerate(vocab)}"
   ]
  },
  {
   "cell_type": "code",
   "execution_count": 8,
   "id": "56e1537f",
   "metadata": {},
   "outputs": [
    {
     "name": "stdout",
     "output_type": "stream",
     "text": [
      "[(['we', 'are', 'to', 'study'], 'about'), (['are', 'about', 'study', 'the'], 'to'), (['about', 'to', 'the', 'idea'], 'study'), (['to', 'study', 'idea', 'of'], 'the'), (['study', 'the', 'of', 'computational'], 'idea')]\n"
     ]
    }
   ],
   "source": [
    "#data bags\n",
    "data=[]\n",
    "for i in range(2,len(words)-2):\n",
    "    context=[words[i-2],words[i-1],words[i+1],words[i+2]]\n",
    "    target=words[i]\n",
    "    data.append((context,target))\n",
    "print(data[:5])"
   ]
  },
  {
   "cell_type": "code",
   "execution_count": 9,
   "id": "cf524279",
   "metadata": {},
   "outputs": [],
   "source": [
    "embeddings=np.random.random_sample((vocab_size, embed_dim))   # creates a NumPy array embedding with random values. "
   ]
  },
  {
   "cell_type": "code",
   "execution_count": 10,
   "id": "f19845c8",
   "metadata": {},
   "outputs": [],
   "source": [
    "#linear model\n",
    "def linear(m,theta):\n",
    "    w=theta\n",
    "    return m.dot(w)"
   ]
  },
  {
   "cell_type": "code",
   "execution_count": 11,
   "id": "5c149497",
   "metadata": {},
   "outputs": [],
   "source": [
    "def log_softmax(x):           #To convert a vector of raw scores (logits) into a probability distribution. The log of the softmax function is\n",
    "    e_x=np.exp(x-np.max(x))   #frequently used in loss functions, such as the cross-entropy loss, for training classification models.\n",
    "    return np.log(e_x/e_x.sum())\n",
    "\n",
    "def NLLLoss(logs,targets):  #Negative Log Likelihood (NLL). This loss is commonly used for training classification models.\n",
    "    out=logs[range(len(targets)),targets]  #This results in a 1D array containing the log probabilities for each data point's correct class.\n",
    "    return -out.sum()/len(out) \n",
    "\n",
    "def log_softmax_crossentropy_with_logits(logits,target):\n",
    "    out=np.zeros_like(logits)         #This line creates an array out with the same shape as logits but filled with zeros.\n",
    "    out[np.arange(len(logits)),target]=1  #This line sets the one-hot encoded values for the target labels. For each data point, it sets the value in the row corresponding to the target label to 1, effectively creating a one-hot encoded matrix.\n",
    "    softmax=np.exp(logits)/np.exp(logits).sum(axis=-1,keepdims=True) #It calculates the exponentials of the logits, then normalizes these values by dividing by the sum along the class dimension (axis -1) to obtain a probability distribution. \n",
    "    return(-out+softmax)/logits.shape[0] #the function returns the cross-entropy loss, which is the element-wise subtraction of the one-hot encoded target matrix (out) from the softmax probabilities (softmax).\n",
    "    #The result is then divided by the number of data points (samples or examples) to compute the average loss over the entire dataset."
   ]
  },
  {
   "cell_type": "code",
   "execution_count": 12,
   "id": "99d6016b",
   "metadata": {},
   "outputs": [],
   "source": [
    "#Forward Function\n",
    "def forward(context_idxs, theta):\n",
    "    m=embeddings[context_idxs].reshape(1,-1) #calculated by selecting the embeddings for the words in the context using the provided indices (context_idxs). These embeddings are reshaped into a 1D vector \n",
    "    n=linear(m,theta) #This step combines the context word embeddings to make predictions about the target word.\n",
    "    o=log_softmax(n)  #The log softmax function converts the raw scores in n into a probability distribution over possible word classes.\n",
    "    \n",
    "    return m,n,o\n",
    "\n",
    "# context_idxs: a list of indices that correspond to words in the context.\n",
    "# theta: a set of parameters or weights that the model uses for its calculations.\n",
    "# embeddings: These are numerical representations of words, like vectors, which the model uses to understand the meaning of words.\n"
   ]
  },
  {
   "cell_type": "code",
   "execution_count": 13,
   "id": "367e9656",
   "metadata": {},
   "outputs": [],
   "source": [
    "#Backward Function responsible for computing gradients with respect to model parameters\n",
    "def backward(preds,theta,target_idxs):\n",
    "    m,n,o=preds\n",
    "    dlog=log_softmax_crossentropy_with_logits(n,target_idxs)\n",
    "    dw=m.T.dot(dlog) #T is used for transpose matrix or array\n",
    "    return dw #dw, which represents the gradients of the loss with respect to the model's parameters. These gradients are used in the optimization process\n",
    "\n",
    "# preds is a tuple containing three items: m(input representation), n(linear transformation result), and o(output probabilities).\n",
    "# target_idxs: a list of indices corresponding to the target labels."
   ]
  },
  {
   "cell_type": "code",
   "execution_count": 14,
   "id": "ce876b1a",
   "metadata": {},
   "outputs": [],
   "source": [
    "#Optimize Function implement a simple parameter update step for optimization using gradient descent. \n",
    "def optimize(theta,grad,lr=0.03):\n",
    "    theta-=grad*lr \n",
    "    return theta\n",
    "\n",
    "#grad: gradients of the loss with respect to the model's parameters.\n",
    "#lr: It determines the rate at which the model's parameters are adjusted."
   ]
  },
  {
   "cell_type": "code",
   "execution_count": 15,
   "id": "442f0d8e",
   "metadata": {},
   "outputs": [],
   "source": [
    "##Generate Training Data\n",
    "theta=np.random.uniform(-1,1,(2*context_size*embed_dim, vocab_size)) \n",
    "#-1: inclusive, 1:exclusive \n",
    "#This function generate random value between -1 and 1.\n",
    "\n",
    "epoch_losses={} #dictionary that will store the losses for each epoch.\n",
    "#The outer loop iterates over a total of 80 epochs. During each epoch, the model will go through the entire training dataset.\n",
    "for epoch in range(80):\n",
    "    losses=[]  #This list is used to collect the losses for each batch of data within an epoch.\n",
    "    \n",
    "    #The inner loop appears to iterate over batches of data represented by the variables context and target.\n",
    "    for context,target in data:\n",
    "        context_idxs=np.array([word_to_ix[w] for w in context]) #created by converting the words in the context to their corresponding indices using the word_to_ix dictionary.\n",
    "        preds=forward(context_idxs,theta) #which involves processing the input data (context_idxs) with the current model parameters (theta).\n",
    "        \n",
    "        target_idxs=np.array([word_to_ix[target]])   #created by converting the target word to its index.\n",
    "        loss=NLLLoss(preds[-1],target_idxs)     #based on the model's predictions (preds[-1]) and the target indices (target_idxs).\n",
    "        \n",
    "        losses.append(loss) #loss added to losses list\n",
    "        \n",
    "        grad=backward(preds,theta,target_idxs) #The gradients (grad) are computed using a backward pass (backward) to understand how the parameters need to be adjusted to reduce the loss.\n",
    "        theta=optimize(theta,grad,lr=0.03)\n",
    "        \n",
    "    epoch_losses[epoch]=losses   #the losses for that epoch are added to the epoch_losses dictionary.\n",
    "    \n",
    "    #plot loss/epoch\n",
    "    ix=np.arange(0,80)"
   ]
  },
  {
   "cell_type": "code",
   "execution_count": 16,
   "id": "b63766c3",
   "metadata": {},
   "outputs": [
    {
     "data": {
      "text/plain": [
       "Text(0, 0.5, 'Losses')"
      ]
     },
     "execution_count": 16,
     "metadata": {},
     "output_type": "execute_result"
    },
    {
     "data": {
      "image/png": "[encoded data removed]",
      "text/plain": [
       "<Figure size 432x288 with 1 Axes>"
      ]
     },
     "metadata": {
      "needs_background": "light"
     },
     "output_type": "display_data"
    }
   ],
   "source": [
    "fig=plt.figure()\n",
    "fig.suptitle('Epoch/Losses',fontsize=20)\n",
    "plt.plot(ix,[epoch_losses[i][0] for i in ix]) #It plots the losses at the first position [0] within the epoch_losses dictionary for each epoch i in the ix range. This is how the losses for each epoch are displayed over time.\n",
    "plt.xlabel('Epochs',fontsize=12)\n",
    "plt.ylabel('Losses',fontsize=12)"
   ]
  },
  {
   "cell_type": "code",
   "execution_count": 17,
   "id": "372d1f69",
   "metadata": {},
   "outputs": [],
   "source": [
    "def predict(words):\n",
    "    context_idxs=np.array([word_to_ix[w] for w in words])\n",
    "    preds=forward(context_idxs,theta)\n",
    "    word=ix_to_word[np.argmax(preds[-1])]  #used to find the index of the word with the highest prediction score in the final prediction vector preds[-1]\n",
    "    return word"
   ]
  },
  {
   "cell_type": "code",
   "execution_count": 18,
   "id": "c08c79f1",
   "metadata": {},
   "outputs": [
    {
     "data": {
      "text/plain": [
       "'abstract'"
      ]
     },
     "execution_count": 18,
     "metadata": {},
     "output_type": "execute_result"
    }
   ],
   "source": [
    "def accuracy():\n",
    "    wrong=0\n",
    "    for context,target in data:\n",
    "        if(predict(context)!=target):\n",
    "            wrong+=1\n",
    "    return (1-(wrong/len(data)))\n",
    "accuracy()\n",
    "predict(['processes', 'manipulate', 'things', 'study'])"
   ]
  }
 ],
 "metadata": {
  "kernelspec": {
   "display_name": "Python 3 (ipykernel)",
   "language": "python",
   "name": "python3"
  },
  "language_info": {
   "codemirror_mode": {
    "name": "ipython",
    "version": 3
   },
   "file_extension": ".py",
   "mimetype": "text/x-python",
   "name": "python",
   "nbconvert_exporter": "python",
   "pygments_lexer": "ipython3",
   "version": "3.9.12"
  }
 },
 "nbformat": 4,
 "nbformat_minor": 5
}
