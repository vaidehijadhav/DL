{
 "cells": [
  {
   "cell_type": "markdown",
   "id": "c86da6c6",
   "metadata": {},
   "source": [
    "Implementing Feedforward neural networks with Keras and TensorFlow\n",
    "\n",
    "a. Import the necessary packages b. Load the training and testing data (MNIST/CIFAR10) c. Define the network architecture using Keras d. Train the model using SGD e. Evaluate the network f. Plot the training loss and accuracy"
   ]
  },
  {
   "cell_type": "markdown",
   "id": "34685970",
   "metadata": {},
   "source": [
    "## a. Import the necessary packages "
   ]
  },
  {
   "cell_type": "code",
   "execution_count": 1,
   "id": "8ff05e6d",
   "metadata": {},
   "outputs": [
    {
     "name": "stderr",
     "output_type": "stream",
     "text": [
      "C:\\Users\\ASUS\\anaconda3\\lib\\site-packages\\scipy\\__init__.py:146: UserWarning: A NumPy version >=1.16.5 and <1.23.0 is required for this version of SciPy (detected version 1.26.1\n",
      "  warnings.warn(f\"A NumPy version >={np_minversion} and <{np_maxversion}\"\n"
     ]
    }
   ],
   "source": [
    "import tensorflow as tf\n",
    "#import tensorflow libary ans assigns it the alias tf"
   ]
  },
  {
   "cell_type": "code",
   "execution_count": 2,
   "id": "212f7524",
   "metadata": {},
   "outputs": [],
   "source": [
    "from tensorflow import keras\n",
    "#keras is an integrated high-level API for building and training neural networks as its backend"
   ]
  },
  {
   "cell_type": "code",
   "execution_count": 3,
   "id": "28b5acc6",
   "metadata": {},
   "outputs": [],
   "source": [
    "import matplotlib.pyplot as plt\n",
    "#This allows you to create plots and graphs for data visualization"
   ]
  },
  {
   "cell_type": "code",
   "execution_count": 4,
   "id": "5c8c7a11",
   "metadata": {},
   "outputs": [],
   "source": [
    "import random\n",
    "#It is standard python library modeule for generate random numbers or perform random operations within your code."
   ]
  },
  {
   "cell_type": "markdown",
   "id": "2092e4ad",
   "metadata": {},
   "source": [
    "### b. Loading the training and testing data(mnist/cifar10) "
   ]
  },
  {
   "cell_type": "code",
   "execution_count": 5,
   "id": "e8c8a267",
   "metadata": {},
   "outputs": [],
   "source": [
    "mnist=tf.keras.datasets.mnist\n",
    "(x_train,y_train),(x_test,y_test)=mnist.load_data()\n",
    "x_train=x_train/255\n",
    "x_test=x_test/255\n",
    "#It is popular dataset contains a large collection of handwritten digits,often used for training and testing image classification models\n",
    "#Splitting it into training and testing data\n",
    "#load_data(): loads both the training and testing datasets.\n"
   ]
  },
  {
   "cell_type": "markdown",
   "id": "2340036f",
   "metadata": {},
   "source": [
    "### c.Define the network architecture using Keras  "
   ]
  },
  {
   "cell_type": "code",
   "execution_count": 6,
   "id": "e854a838",
   "metadata": {},
   "outputs": [],
   "source": [
    "model=keras.Sequential([                     #create sequential model(linear layer of stack)\n",
    "    keras.layers.Flatten(input_shape=(28,28)),  #1st layer, reshape input data assumed to be 2d array with shape 28\n",
    "    keras.layers.Dense(128,activation=\"relu\"),  #fully connected layer each neuron(128) connected to every output of previous layer\n",
    "    keras.layers.Dense(10,activation=\"softmax\") #output layer softmax used in multiclass classification problem to convert raw output scores into probabilities\n",
    "])\n",
    "\n",
    "# ReLU(Rectified Linear Unit) common choice for hidden layer"
   ]
  },
  {
   "cell_type": "code",
   "execution_count": 7,
   "id": "2ab5a92b",
   "metadata": {},
   "outputs": [
    {
     "name": "stdout",
     "output_type": "stream",
     "text": [
      "Model: \"sequential\"\n",
      "_________________________________________________________________\n",
      " Layer (type)                Output Shape              Param #   \n",
      "=================================================================\n",
      " flatten (Flatten)           (None, 784)               0         \n",
      "                                                                 \n",
      " dense (Dense)               (None, 128)               100480    \n",
      "                                                                 \n",
      " dense_1 (Dense)             (None, 10)                1290      \n",
      "                                                                 \n",
      "=================================================================\n",
      "Total params: 101770 (397.54 KB)\n",
      "Trainable params: 101770 (397.54 KB)\n",
      "Non-trainable params: 0 (0.00 Byte)\n",
      "_________________________________________________________________\n"
     ]
    }
   ],
   "source": [
    "model.summary()  #provides information about architecture of the model,including layers,no. of parameters and output shapes.\n",
    "#Param= no. of trainable parameters in each layer.\n",
    "#total params represents the total number of trainable parameters in the entire model.\n",
    "#Trainable params is the number of parameters that are updated during training.\n",
    "#Non-trainable params would include any parameters that are not updated during training, "
   ]
  },
  {
   "cell_type": "markdown",
   "id": "61d5bd26",
   "metadata": {},
   "source": [
    "### d. Train the model using SGD  "
   ]
  },
  {
   "cell_type": "code",
   "execution_count": 8,
   "id": "70023d10",
   "metadata": {},
   "outputs": [
    {
     "name": "stdout",
     "output_type": "stream",
     "text": [
      "Epoch 1/5\n",
      "1875/1875 [==============================] - 9s 4ms/step - loss: 0.6594 - accuracy: 0.8347 - val_loss: 0.3578 - val_accuracy: 0.9018\n",
      "Epoch 2/5\n",
      "1875/1875 [==============================] - 7s 4ms/step - loss: 0.3403 - accuracy: 0.9054 - val_loss: 0.2932 - val_accuracy: 0.9177\n",
      "Epoch 3/5\n",
      "1875/1875 [==============================] - 8s 4ms/step - loss: 0.2916 - accuracy: 0.9187 - val_loss: 0.2655 - val_accuracy: 0.9250\n",
      "Epoch 4/5\n",
      "1875/1875 [==============================] - 7s 4ms/step - loss: 0.2612 - accuracy: 0.9269 - val_loss: 0.2394 - val_accuracy: 0.9343\n",
      "Epoch 5/5\n",
      "1875/1875 [==============================] - 7s 4ms/step - loss: 0.2386 - accuracy: 0.9332 - val_loss: 0.2221 - val_accuracy: 0.9375\n"
     ]
    }
   ],
   "source": [
    "model.compile(optimizer='sgd',\n",
    "loss='sparse_categorical_crossentropy',   # sets the loss function to be used during training. \n",
    "metrics = ['accuracy']                 #specifies the metrics that should be tracked during training\n",
    ")\n",
    "# model.compile() is used to configure the training process for the model.\n",
    "# optimizer='sgd' specifies the optimization algorithm. Here, 'sgd' stands for Stochastic Gradient Descent.\n",
    "\n",
    "history = model.fit(x_train, y_train, validation_data = [x_test,y_test], epochs=5)\n",
    "#model.fit() trains the model with the specified training data (x_train and y_train).\n",
    "#epochs=5 specifies the number of times the model will go through the entire training dataset (in this case, 5 times) during training."
   ]
  },
  {
   "cell_type": "markdown",
   "id": "4e2b02e6",
   "metadata": {},
   "source": [
    "### e. Evaluate the network "
   ]
  },
  {
   "cell_type": "code",
   "execution_count": 9,
   "id": "0d687196",
   "metadata": {},
   "outputs": [
    {
     "name": "stdout",
     "output_type": "stream",
     "text": [
      "313/313 [==============================] - 1s 3ms/step - loss: 0.2221 - accuracy: 0.9375\n",
      "Loss0.222\n",
      "Accuracy0.938\n"
     ]
    },
    {
     "data": {
      "image/png": "[encoded data removed]",
      "text/plain": [
       "<Figure size 432x288 with 1 Axes>"
      ]
     },
     "metadata": {
      "needs_background": "light"
     },
     "output_type": "display_data"
    },
    {
     "name": "stdout",
     "output_type": "stream",
     "text": [
      "313/313 [==============================] - 1s 2ms/step\n"
     ]
    },
    {
     "data": {
      "image/png": "[encoded data removed]",
      "text/plain": [
       "<Figure size 432x288 with 1 Axes>"
      ]
     },
     "metadata": {
      "needs_background": "light"
     },
     "output_type": "display_data"
    }
   ],
   "source": [
    "test_loss , test_acc = model.evaluate(x_test,y_test)\n",
    "print(\"Loss%.3f\" %test_loss)  #These lines print the test loss and test accuracy to the console with three decimal places of precision.\n",
    "print(\"Accuracy%.3f\" %test_acc)\n",
    "\n",
    "n = random.randint(0,9999) #used to select a random test image for visualization and prediction.\n",
    "plt.imshow(x_test[n])\n",
    "plt.show()\n",
    "predicted_value = model.predict(x_test) #ses the trained model to make predictions on the entire test dataset x_test\n",
    "plt.imshow(x_test[n]) \n",
    "plt.show()"
   ]
  },
  {
   "cell_type": "markdown",
   "id": "56fbd201",
   "metadata": {},
   "source": [
    "###  f. Plot the training loss and accuracy "
   ]
  },
  {
   "cell_type": "code",
   "execution_count": 10,
   "id": "55396638",
   "metadata": {},
   "outputs": [
    {
     "data": {
      "image/png": "[encoded data removed]",
      "text/plain": [
       "<Figure size 432x288 with 1 Axes>"
      ]
     },
     "metadata": {
      "needs_background": "light"
     },
     "output_type": "display_data"
    }
   ],
   "source": [
    "plt.plot(history.history['accuracy'])  #plot the training accuracy\n",
    "plt.plot(history.history['val_accuracy']) #validation accuracy\n",
    "plt.title(\"Model Accuracy\")\n",
    "plt.ylabel('Accuracy')\n",
    "plt.xlabel('epochs')\n",
    "plt.legend(['Train', 'Validation'], loc='upper left')\n",
    "plt.show()"
   ]
  },
  {
   "cell_type": "code",
   "execution_count": 11,
   "id": "cb064b47",
   "metadata": {},
   "outputs": [
    {
     "data": {
      "image/png": "[encoded data removed]",
      "text/plain": [
       "<Figure size 432x288 with 1 Axes>"
      ]
     },
     "metadata": {
      "needs_background": "light"
     },
     "output_type": "display_data"
    }
   ],
   "source": [
    "plt.plot(history.history['loss'])\n",
    "plt.plot(history.history['val_loss'])\n",
    "plt.title(\"Model Loss\")\n",
    "plt.ylabel('Loss')\n",
    "plt.xlabel('epochs')\n",
    "plt.legend(['Train', 'Validation'], loc='upper right')\n",
    "plt.show()"
   ]
  },
  {
   "cell_type": "code",
   "execution_count": null,
   "id": "374b08b0",
   "metadata": {},
   "outputs": [],
   "source": []
  }
 ],
 "metadata": {
  "kernelspec": {
   "display_name": "Python 3 (ipykernel)",
   "language": "python",
   "name": "python3"
  },
  "language_info": {
   "codemirror_mode": {
    "name": "ipython",
    "version": 3
   },
   "file_extension": ".py",
   "mimetype": "text/x-python",
   "name": "python",
   "nbconvert_exporter": "python",
   "pygments_lexer": "ipython3",
   "version": "3.9.12"
  }
 },
 "nbformat": 4,
 "nbformat_minor": 5
}
