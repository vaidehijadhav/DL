{
 "cells": [
  {
   "cell_type": "raw",
   "id": "ce3a5298",
   "metadata": {},
   "source": [
    "Object detection using Transfer Learning of CNN architectures\n",
    "\n",
    "a. Load in a pre-trained CNN model trained on a large dataset\n",
    "b. Freeze parameters (weights) in model’s lower convolutional layers\n",
    "c. Add custom classifier with several layers of trainable parameters to model\n",
    "d. Train classifier layers on training data available for task\n",
    "e. Fine-tune hyper parameters and unfreeze more layers as needed"
   ]
  },
  {
   "cell_type": "code",
   "execution_count": 1,
   "id": "0d531119",
   "metadata": {},
   "outputs": [
    {
     "name": "stderr",
     "output_type": "stream",
     "text": [
      "C:\\Users\\ASUS\\anaconda3\\lib\\site-packages\\scipy\\__init__.py:146: UserWarning: A NumPy version >=1.16.5 and <1.23.0 is required for this version of SciPy (detected version 1.26.1\n",
      "  warnings.warn(f\"A NumPy version >={np_minversion} and <{np_maxversion}\"\n"
     ]
    }
   ],
   "source": [
    "import tensorflow as tf\n",
    "import numpy as np"
   ]
  },
  {
   "cell_type": "code",
   "execution_count": 2,
   "id": "ce4b33b0",
   "metadata": {},
   "outputs": [],
   "source": [
    "from tensorflow.keras.preprocessing.image import ImageDataGenerator "
   ]
  },
  {
   "cell_type": "code",
   "execution_count": 3,
   "id": "0c9b2ef4",
   "metadata": {},
   "outputs": [],
   "source": [
    "train_dir=r\"D:\\DL\\DL\\cifer-10-img\\train\""
   ]
  },
  {
   "cell_type": "code",
   "execution_count": 4,
   "id": "83831c30",
   "metadata": {},
   "outputs": [],
   "source": [
    "test_dir=r\"D:\\DL\\DL\\cifer-10-img\\test\""
   ]
  },
  {
   "cell_type": "code",
   "execution_count": 5,
   "id": "312966c9",
   "metadata": {},
   "outputs": [],
   "source": [
    "train_datagen=ImageDataGenerator(\n",
    "    rescale=1.0/255\n",
    ")\n",
    "\n",
    "test_datagen=ImageDataGenerator(\n",
    "    rescale=1.0/255\n",
    ")"
   ]
  },
  {
   "cell_type": "code",
   "execution_count": 6,
   "id": "4b1eaaf3",
   "metadata": {},
   "outputs": [
    {
     "name": "stdout",
     "output_type": "stream",
     "text": [
      "Found 40079 images belonging to 10 classes.\n"
     ]
    }
   ],
   "source": [
    "train_generator = train_datagen.flow_from_directory(\n",
    "    train_dir,\n",
    "    target_size=(32,32),\n",
    "    batch_size= 5000,\n",
    "    class_mode='categorical'\n",
    ")"
   ]
  },
  {
   "cell_type": "code",
   "execution_count": 7,
   "id": "18ce328b",
   "metadata": {},
   "outputs": [
    {
     "name": "stdout",
     "output_type": "stream",
     "text": [
      "Found 9921 images belonging to 10 classes.\n"
     ]
    }
   ],
   "source": [
    "test_generator = test_datagen.flow_from_directory(\n",
    "    test_dir,\n",
    "    target_size=(32,32),\n",
    "    batch_size=1000,\n",
    "    class_mode='categorical'\n",
    ")"
   ]
  },
  {
   "cell_type": "code",
   "execution_count": 8,
   "id": "4e2935b9",
   "metadata": {},
   "outputs": [
    {
     "name": "stdout",
     "output_type": "stream",
     "text": [
      "5000\n",
      "1000\n"
     ]
    }
   ],
   "source": [
    "x_train, y_train =train_generator[0]\n",
    "x_test, y_test= test_generator[0]\n",
    "\n",
    "print(len(x_train))\n",
    "print(len(x_test))"
   ]
  },
  {
   "cell_type": "markdown",
   "id": "0c232c5f",
   "metadata": {},
   "source": [
    "### a.Load in a pre-trained CNN model trained on a large dataset"
   ]
  },
  {
   "cell_type": "code",
   "execution_count": 9,
   "id": "bc418a2b",
   "metadata": {},
   "outputs": [],
   "source": [
    "from tensorflow.keras.applications import VGG16\n",
    "weights_path= r\"D:\\DL\\DL\\vgg16_weights_tf_dim_ordering_tf_kernels_notop.h5\"\n",
    "base_model= VGG16(weights=weights_path, include_top=False, input_shape=(32,32,3))"
   ]
  },
  {
   "cell_type": "markdown",
   "id": "773ca48a",
   "metadata": {},
   "source": [
    "### b.Freeze parameters in model's lower convolutional layers "
   ]
  },
  {
   "cell_type": "code",
   "execution_count": 10,
   "id": "e04ab9bb",
   "metadata": {},
   "outputs": [],
   "source": [
    "for layer in base_model.layers:\n",
    "    layer.trainable=False"
   ]
  },
  {
   "cell_type": "markdown",
   "id": "1b03e028",
   "metadata": {},
   "source": [
    "### c. Add custom classifier with several layers of trainable parameters to model "
   ]
  },
  {
   "cell_type": "code",
   "execution_count": 11,
   "id": "f1b278cd",
   "metadata": {},
   "outputs": [],
   "source": [
    "from tensorflow.keras.layers import Flatten, Dense, Dropout"
   ]
  },
  {
   "cell_type": "code",
   "execution_count": 12,
   "id": "be3d87c1",
   "metadata": {},
   "outputs": [],
   "source": [
    "x=Flatten()(base_model.output)\n",
    "x=Dense(256, activation='relu')(x)\n",
    "x=Dropout(0.3)(x)\n",
    "\n",
    "x=Dense(512, activation='relu')(x)\n",
    "x=Dropout(0.3)(x)\n",
    "predicted=Dense(10, activation='softmax')(x)"
   ]
  },
  {
   "cell_type": "code",
   "execution_count": 13,
   "id": "c42fd861",
   "metadata": {},
   "outputs": [],
   "source": [
    "from tensorflow.keras.models import Model"
   ]
  },
  {
   "cell_type": "code",
   "execution_count": 14,
   "id": "aa226b9a",
   "metadata": {},
   "outputs": [],
   "source": [
    "model = Model(inputs=base_model.input, outputs=predicted)"
   ]
  },
  {
   "cell_type": "code",
   "execution_count": 15,
   "id": "02e049f6",
   "metadata": {},
   "outputs": [],
   "source": [
    "model.compile(optimizer='adam',\n",
    "             loss='categorical_crossentropy',\n",
    "             metrics=['accuracy'])"
   ]
  },
  {
   "cell_type": "code",
   "execution_count": 16,
   "id": "ec4f3fb5",
   "metadata": {},
   "outputs": [
    {
     "name": "stdout",
     "output_type": "stream",
     "text": [
      "Epoch 1/10\n",
      "79/79 [==============================] - 27s 308ms/step - loss: 1.9148 - accuracy: 0.3112 - val_loss: 1.6008 - val_accuracy: 0.4240\n",
      "Epoch 2/10\n",
      "79/79 [==============================] - 23s 296ms/step - loss: 1.5444 - accuracy: 0.4518 - val_loss: 1.4453 - val_accuracy: 0.4910\n",
      "Epoch 3/10\n",
      "79/79 [==============================] - 23s 289ms/step - loss: 1.4121 - accuracy: 0.4980 - val_loss: 1.3562 - val_accuracy: 0.5200\n",
      "Epoch 4/10\n",
      "79/79 [==============================] - 24s 308ms/step - loss: 1.3356 - accuracy: 0.5332 - val_loss: 1.3384 - val_accuracy: 0.5480\n",
      "Epoch 5/10\n",
      "79/79 [==============================] - 23s 289ms/step - loss: 1.2596 - accuracy: 0.5458 - val_loss: 1.3016 - val_accuracy: 0.5460\n",
      "Epoch 6/10\n",
      "79/79 [==============================] - 24s 306ms/step - loss: 1.2048 - accuracy: 0.5798 - val_loss: 1.2924 - val_accuracy: 0.5560\n",
      "Epoch 7/10\n",
      "79/79 [==============================] - 23s 287ms/step - loss: 1.1482 - accuracy: 0.5874 - val_loss: 1.3355 - val_accuracy: 0.5360\n",
      "Epoch 8/10\n",
      "79/79 [==============================] - 24s 300ms/step - loss: 1.0977 - accuracy: 0.6146 - val_loss: 1.2872 - val_accuracy: 0.5580\n",
      "Epoch 9/10\n",
      "79/79 [==============================] - 24s 303ms/step - loss: 1.0337 - accuracy: 0.6340 - val_loss: 1.2926 - val_accuracy: 0.5550\n",
      "Epoch 10/10\n",
      "79/79 [==============================] - 24s 309ms/step - loss: 0.9914 - accuracy: 0.6458 - val_loss: 1.2913 - val_accuracy: 0.5560\n"
     ]
    },
    {
     "data": {
      "text/plain": [
       "<keras.src.callbacks.History at 0x169d42fdee0>"
      ]
     },
     "execution_count": 16,
     "metadata": {},
     "output_type": "execute_result"
    }
   ],
   "source": [
    "model.fit(x_train, y_train, batch_size=64, epochs=10, validation_data=(x_test,y_test))"
   ]
  },
  {
   "cell_type": "code",
   "execution_count": 17,
   "id": "65766993",
   "metadata": {},
   "outputs": [],
   "source": [
    "base_model=VGG16(weights=weights_path, include_top=False, input_shape=(32,32,3))\n",
    "for layer in base_model.layers:\n",
    "    layer.trainable=False\n",
    "    \n",
    "for layer in base_model.layers[len(base_model.layers)-2:]:\n",
    "    layer.trainable= True"
   ]
  },
  {
   "cell_type": "code",
   "execution_count": 18,
   "id": "045eaa73",
   "metadata": {},
   "outputs": [],
   "source": [
    "x = Flatten()(base_model.output)\n",
    "x = Dense(256, activation='relu')(x)\n",
    "x = Dropout(0.3)(x)\n",
    "\n",
    "x = Dense(512, activation='relu')(x)\n",
    "x = Dropout(0.3)(x)\n",
    "predictions = Dense(10, activation='softmax')(x)"
   ]
  },
  {
   "cell_type": "code",
   "execution_count": 19,
   "id": "229e875c",
   "metadata": {},
   "outputs": [],
   "source": [
    "model = Model(inputs = base_model.input, outputs = predictions)"
   ]
  },
  {
   "cell_type": "code",
   "execution_count": 20,
   "id": "56e0c913",
   "metadata": {},
   "outputs": [],
   "source": [
    "model.compile(optimizer='adam',\n",
    "             loss='categorical_crossentropy',\n",
    "             metrics=['accuracy'])"
   ]
  },
  {
   "cell_type": "code",
   "execution_count": 21,
   "id": "7db59d92",
   "metadata": {},
   "outputs": [
    {
     "name": "stdout",
     "output_type": "stream",
     "text": [
      "Epoch 1/10\n",
      "79/79 [==============================] - 34s 388ms/step - loss: 1.8742 - accuracy: 0.3194 - val_loss: 1.5048 - val_accuracy: 0.4720\n",
      "Epoch 2/10\n",
      "79/79 [==============================] - 26s 327ms/step - loss: 1.4927 - accuracy: 0.4698 - val_loss: 1.3818 - val_accuracy: 0.5300\n",
      "Epoch 3/10\n",
      "79/79 [==============================] - 14s 182ms/step - loss: 1.3612 - accuracy: 0.5192 - val_loss: 1.3055 - val_accuracy: 0.5420\n",
      "Epoch 4/10\n",
      "79/79 [==============================] - 14s 180ms/step - loss: 1.2685 - accuracy: 0.5496 - val_loss: 1.2784 - val_accuracy: 0.5330\n",
      "Epoch 5/10\n",
      "79/79 [==============================] - 14s 182ms/step - loss: 1.2105 - accuracy: 0.5764 - val_loss: 1.2257 - val_accuracy: 0.5860\n",
      "Epoch 6/10\n",
      "79/79 [==============================] - 14s 181ms/step - loss: 1.1341 - accuracy: 0.6034 - val_loss: 1.2894 - val_accuracy: 0.5720\n",
      "Epoch 7/10\n",
      "79/79 [==============================] - 14s 180ms/step - loss: 1.0849 - accuracy: 0.6128 - val_loss: 1.2313 - val_accuracy: 0.5770\n",
      "Epoch 8/10\n",
      "79/79 [==============================] - 15s 190ms/step - loss: 1.0110 - accuracy: 0.6502 - val_loss: 1.1867 - val_accuracy: 0.5970\n",
      "Epoch 9/10\n",
      "79/79 [==============================] - 14s 181ms/step - loss: 0.9444 - accuracy: 0.6664 - val_loss: 1.1683 - val_accuracy: 0.6170\n",
      "Epoch 10/10\n",
      "79/79 [==============================] - 14s 180ms/step - loss: 0.9127 - accuracy: 0.6842 - val_loss: 1.2632 - val_accuracy: 0.5850\n"
     ]
    },
    {
     "data": {
      "text/plain": [
       "<keras.src.callbacks.History at 0x169d470b700>"
      ]
     },
     "execution_count": 21,
     "metadata": {},
     "output_type": "execute_result"
    }
   ],
   "source": [
    "model.fit(x_train, y_train, batch_size=64, epochs=10, validation_data=(x_test,y_test))"
   ]
  },
  {
   "cell_type": "code",
   "execution_count": 22,
   "id": "a513a480",
   "metadata": {},
   "outputs": [
    {
     "name": "stdout",
     "output_type": "stream",
     "text": [
      "32/32 [==============================] - 2s 57ms/step\n"
     ]
    }
   ],
   "source": [
    "import matplotlib.pyplot as plt\n",
    "predicted_value=model.predict(x_test)"
   ]
  },
  {
   "cell_type": "code",
   "execution_count": 23,
   "id": "020a7cfd",
   "metadata": {},
   "outputs": [],
   "source": [
    "labels = list(test_generator.class_indices.keys())"
   ]
  },
  {
   "cell_type": "code",
   "execution_count": 38,
   "id": "4b698dbc",
   "metadata": {},
   "outputs": [
    {
     "name": "stdout",
     "output_type": "stream",
     "text": [
      "Predicted:  bird\n",
      "Actual:  bird\n"
     ]
    },
    {
     "data": {
      "image/png": "[encoded data removed]",
      "text/plain": [
       "<Figure size 432x288 with 1 Axes>"
      ]
     },
     "metadata": {
      "needs_background": "light"
     },
     "output_type": "display_data"
    }
   ],
   "source": [
    "n=100\n",
    "plt.imshow(x_test[n])\n",
    "print(\"Predicted: \", labels[np.argmax(predicted_value[n])])\n",
    "print(\"Actual: \", labels[np.argmax(y_test[n])])"
   ]
  },
  {
   "cell_type": "code",
   "execution_count": null,
   "id": "f757d699",
   "metadata": {},
   "outputs": [],
   "source": []
  }
 ],
 "metadata": {
  "kernelspec": {
   "display_name": "Python 3 (ipykernel)",
   "language": "python",
   "name": "python3"
  },
  "language_info": {
   "codemirror_mode": {
    "name": "ipython",
    "version": 3
   },
   "file_extension": ".py",
   "mimetype": "text/x-python",
   "name": "python",
   "nbconvert_exporter": "python",
   "pygments_lexer": "ipython3",
   "version": "3.9.12"
  }
 },
 "nbformat": 4,
 "nbformat_minor": 5
}
